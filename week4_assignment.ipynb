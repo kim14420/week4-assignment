{
  "nbformat": 4,
  "nbformat_minor": 0,
  "metadata": {
    "colab": {
      "provenance": [],
      "collapsed_sections": []
    },
    "kernelspec": {
      "name": "python3",
      "display_name": "Python 3"
    },
    "language_info": {
      "name": "python"
    }
  },
  "cells": [
    {
      "cell_type": "code",
      "execution_count": 4,
      "metadata": {
        "colab": {
          "base_uri": "https://localhost:8080/"
        },
        "id": "mMjJUSB6_3Lx",
        "outputId": "074075d2-58b7-4793-fbcb-cbf8a11aba58"
      },
      "outputs": [
        {
          "output_type": "stream",
          "name": "stdout",
          "text": [
            "dog\n",
            "duck\n",
            "pony\n",
            "cat\n"
          ]
        }
      ],
      "source": [
        "animal = [\"dog\", \"duck\", \"pony\", \"donkey\", \"giraffe\", \"elephant\", \"cat\"]\n",
        "\n",
        "for i in (animal):\n",
        "\n",
        "  if len(i) < 5:\n",
        "    print (i)\n",
        "  \n"
      ]
    }
  ]
}